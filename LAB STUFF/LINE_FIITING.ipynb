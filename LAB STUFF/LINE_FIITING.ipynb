{
 "cells": [
  {
   "cell_type": "markdown",
   "metadata": {},
   "source": [
    "Write a program for fitting a line for given data with Machine learning"
   ]
  },
  {
   "cell_type": "markdown",
   "metadata": {},
   "source": [
    "NAME ATHARVA BALPANDE\n",
    "ROLL NO 313002\n",
    "DIV:C1\n",
    "PRN:22111143"
   ]
  },
  {
   "cell_type": "code",
   "execution_count": 226,
   "metadata": {},
   "outputs": [
    {
     "name": "stdout",
     "output_type": "stream",
     "text": [
      "        0        1      2      3        4     5       6\n",
      "0    83.0  234.289  235.6  159.0  107.608  1947  60.323\n",
      "1    88.5  259.426  232.5  145.6  108.632  1948  61.122\n",
      "2    88.2  258.054  368.2  161.6  109.773  1949  60.171\n",
      "3    89.5  284.599  335.1  165.0  110.929  1950  61.187\n",
      "4    96.2  328.975  209.9  309.9  112.075  1951  63.221\n",
      "5    98.1  346.999  193.2  359.4  113.270  1952  63.639\n",
      "6    99.0  365.385  187.0  354.7  115.094  1953  64.989\n",
      "7   100.0  363.112  357.8  335.0  116.219  1954  63.761\n",
      "8   101.2  397.469  290.4  304.8  117.388  1955  66.019\n",
      "9   104.6  419.180  282.2  285.7  118.734  1956  67.857\n",
      "10  108.4  442.769  293.6  279.8  120.445  1957  68.169\n",
      "11  110.8  444.546  468.1  263.7  121.950  1958  66.513\n",
      "12  112.6  482.704  381.3  255.2  123.366  1959  68.655\n",
      "13  114.2  502.601  393.1  251.4  125.368  1960  69.564\n",
      "14  115.7  518.173  480.6  257.2  127.852  1961  69.331\n",
      "15  116.9  554.894  400.7  282.7  130.081  1962  70.551\n",
      "\n",
      "xs= [107.608 108.632 109.773 110.929 112.075 113.27  115.094 116.219 117.388\n",
      " 118.734 120.445 121.95  123.366 125.368 127.852 130.081]\n",
      "ys= [234.289 259.426 258.054 284.599 328.975 346.999 365.385 363.112 397.469\n",
      " 419.18  442.769 444.546 482.704 502.601 518.173 554.894]\n"
     ]
    }
   ],
   "source": [
    "#Importing all the required datasheet\n",
    "from pandas import read_csv\n",
    "url = 'https://raw.githubusercontent.com/jbrownlee/Datasets/master/longley.csv'\n",
    "\n",
    "Dataframe= read_csv(url,header=None)\n",
    "print(Dataframe)\n",
    "data=Dataframe.values\n",
    "\n",
    "xs,ys =data[:,4], data[:,1]\n",
    "print()\n",
    "print('xs=',xs)\n",
    "print('ys=',ys)"
   ]
  },
  {
   "cell_type": "code",
   "execution_count": 227,
   "metadata": {},
   "outputs": [],
   "source": [
    "#print(tf.__version__)\n",
    "import tensorflow as tf\n",
    "from tensorflow import keras"
   ]
  },
  {
   "cell_type": "code",
   "execution_count": 228,
   "metadata": {},
   "outputs": [],
   "source": [
    "#print(keras.__version__)\n",
    "import numpy as np\n",
    "import pandas as pd\n",
    "import matplotlib.pyplot as plt\n",
    "from sklearn.model_selection import train_test_split"
   ]
  },
  {
   "cell_type": "code",
   "execution_count": 229,
   "metadata": {},
   "outputs": [
    {
     "name": "stdout",
     "output_type": "stream",
     "text": [
      "[107.608 108.632 109.773 110.929 112.075 113.27  115.094 116.219 117.388\n",
      " 118.734 120.445 121.95  123.366 125.368 127.852 130.081]\n",
      "[]\n",
      "[234.289 259.426 258.054 284.599 328.975 346.999 365.385 363.112 397.469\n",
      " 419.18  442.769 444.546 482.704 502.601 518.173 554.894]\n",
      "[]\n"
     ]
    }
   ],
   "source": [
    "#training and cleaning the data\n",
    "#splitting the data into training set and testing set\n",
    "X_train=xs[0:70]\n",
    "X_test=xs[71::]\n",
    "Y_train=ys[0:70]\n",
    "Y_test=ys[71::]\n",
    "print(X_train)\n",
    "print(X_test)\n",
    "print(Y_train)\n",
    "print(Y_test)"
   ]
  },
  {
   "cell_type": "code",
   "execution_count": 230,
   "metadata": {},
   "outputs": [
    {
     "name": "stdout",
     "output_type": "stream",
     "text": [
      "[108.632 115.094 117.388 118.734 125.368]\n",
      "[259.426 365.385 397.469 419.18  502.601]\n"
     ]
    }
   ],
   "source": [
    "#using the train_test_split function from Scikit-Learn to split your data into training and testing sets\n",
    "X_train,X_test,Y_train,Y_test = train_test_split(xs,ys,test_size=0.3,random_state=0)\n",
    "print(X_test)\n",
    "print(Y_test)"
   ]
  },
  {
   "cell_type": "code",
   "execution_count": 231,
   "metadata": {},
   "outputs": [],
   "source": [
    "#defining a simple neural network model using TensorFlow's Keras API\n",
    "model=tf.keras.models.Sequential([tf.keras.layers.Dense(1,input_dim=1),\n",
    "tf.keras.layers.Dense(10,activation=tf.nn.relu),\n",
    "tf.keras.layers.Dense(1)])"
   ]
  },
  {
   "cell_type": "code",
   "execution_count": 232,
   "metadata": {},
   "outputs": [
    {
     "name": "stdout",
     "output_type": "stream",
     "text": [
      "Model: \"sequential_19\"\n",
      "_________________________________________________________________\n",
      " Layer (type)                Output Shape              Param #   \n",
      "=================================================================\n",
      " dense_57 (Dense)            (None, 1)                 2         \n",
      "                                                                 \n",
      " dense_58 (Dense)            (None, 10)                20        \n",
      "                                                                 \n",
      " dense_59 (Dense)            (None, 1)                 11        \n",
      "                                                                 \n",
      "=================================================================\n",
      "Total params: 33 (132.00 Byte)\n",
      "Trainable params: 33 (132.00 Byte)\n",
      "Non-trainable params: 0 (0.00 Byte)\n",
      "_________________________________________________________________\n"
     ]
    }
   ],
   "source": [
    "model.summary()"
   ]
  },
  {
   "cell_type": "code",
   "execution_count": 233,
   "metadata": {},
   "outputs": [],
   "source": [
    "#configure the training process\n",
    "model.compile(optimizer=tf.keras.optimizers.Adam(learning_rate=0.1),\n",
    "loss=tf.keras.losses.mean_squared_error,\n",
    "metrics=[tf.keras.metrics.MeanSquaredError()])"
   ]
  },
  {
   "cell_type": "code",
   "execution_count": 234,
   "metadata": {},
   "outputs": [
    {
     "name": "stdout",
     "output_type": "stream",
     "text": [
      "Epoch 1/10\n",
      "1/1 [==============================] - 1s 503ms/step - loss: 122052.4531 - mean_squared_error: 122052.4531\n",
      "Epoch 2/10\n",
      "1/1 [==============================] - 0s 5ms/step - loss: 68453.9453 - mean_squared_error: 68453.9453\n",
      "Epoch 3/10\n",
      "1/1 [==============================] - 0s 5ms/step - loss: 29329.1582 - mean_squared_error: 29329.1582\n",
      "Epoch 4/10\n",
      "1/1 [==============================] - 0s 6ms/step - loss: 7717.3623 - mean_squared_error: 7717.3623\n",
      "Epoch 5/10\n",
      "1/1 [==============================] - 0s 5ms/step - loss: 13238.1182 - mean_squared_error: 13238.1182\n",
      "Epoch 6/10\n",
      "1/1 [==============================] - 0s 6ms/step - loss: 30855.5605 - mean_squared_error: 30855.5605\n",
      "Epoch 7/10\n",
      "1/1 [==============================] - 0s 5ms/step - loss: 31260.1484 - mean_squared_error: 31260.1484\n",
      "Epoch 8/10\n",
      "1/1 [==============================] - 0s 6ms/step - loss: 20416.6895 - mean_squared_error: 20416.6895\n",
      "Epoch 9/10\n",
      "1/1 [==============================] - 0s 5ms/step - loss: 10531.3574 - mean_squared_error: 10531.3574\n",
      "Epoch 10/10\n",
      "1/1 [==============================] - 0s 7ms/step - loss: 6416.8594 - mean_squared_error: 6416.8594\n"
     ]
    },
    {
     "data": {
      "text/plain": [
       "<keras.src.callbacks.History at 0x25731c58310>"
      ]
     },
     "execution_count": 234,
     "metadata": {},
     "output_type": "execute_result"
    }
   ],
   "source": [
    "model.fit(X_train,Y_train,epochs=10,verbose=1)"
   ]
  },
  {
   "cell_type": "code",
   "execution_count": 235,
   "metadata": {},
   "outputs": [
    {
     "name": "stdout",
     "output_type": "stream",
     "text": [
      "1/1 - 0s - loss: 5157.6016 - mean_squared_error: 5157.6016 - 92ms/epoch - 92ms/step\n"
     ]
    },
    {
     "data": {
      "text/plain": [
       "[5157.6015625, 5157.6015625]"
      ]
     },
     "execution_count": 235,
     "metadata": {},
     "output_type": "execute_result"
    }
   ],
   "source": [
    "model.evaluate(X_test,Y_test,verbose=2)\n"
   ]
  },
  {
   "cell_type": "code",
   "execution_count": 236,
   "metadata": {},
   "outputs": [
    {
     "name": "stdout",
     "output_type": "stream",
     "text": [
      "1/1 [==============================] - 0s 52ms/step\n"
     ]
    },
    {
     "data": {
      "image/png": "[encoded data removed]",
      "text/plain": [
       "<Figure size 1000x500 with 1 Axes>"
      ]
     },
     "metadata": {},
     "output_type": "display_data"
    }
   ],
   "source": [
    "X_new = X_test[:20]\n",
    "Y_pred = model.predict(X_new)\n",
    "plt.figure(figsize=(10,5))\n",
    "plt.plot(np.arange(0,len(X_new),1),Y_test[:20],'b--',label='Actual')\n",
    "plt.plot(np.arange(0,len(X_new),1),Y_pred,'r--',label = 'predicted')\n",
    "plt.legend()\n",
    "plt.show()"
   ]
  }
 ],
 "metadata": {
  "kernelspec": {
   "display_name": ".venv",
   "language": "python",
   "name": "python3"
  },
  "language_info": {
   "codemirror_mode": {
    "name": "ipython",
    "version": 3
   },
   "file_extension": ".py",
   "mimetype": "text/x-python",
   "name": "python",
   "nbconvert_exporter": "python",
   "pygments_lexer": "ipython3",
   "version": "3.11.2"
  }
 },
 "nbformat": 4,
 "nbformat_minor": 2
}
