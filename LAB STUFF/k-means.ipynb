{
 "cells": [
  {
   "cell_type": "markdown",
   "metadata": {},
   "source": [
    "Experiment No 6\n",
    "Implement K means clustering algorithm for given data.\n",
    "\n",
    "NAME ATHARVA BALPANDE\n",
    "ROLL NO 313002\n",
    "DIV:C1\n",
    "PRN:22111143\n"
   ]
  },
  {
   "cell_type": "markdown",
   "metadata": {},
   "source": []
  }
 ],
 "metadata": {
  "language_info": {
   "name": "python"
  }
 },
 "nbformat": 4,
 "nbformat_minor": 2
}
